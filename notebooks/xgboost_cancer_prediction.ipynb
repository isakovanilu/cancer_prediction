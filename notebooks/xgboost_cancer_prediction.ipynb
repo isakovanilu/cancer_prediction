{
 "cells": [
  {
   "cell_type": "code",
   "execution_count": null,
   "id": "256e6255-cf34-47a4-ac05-d7838544db64",
   "metadata": {},
   "outputs": [],
   "source": [
    "!pip install s3fs"
   ]
  },
  {
   "cell_type": "markdown",
   "id": "cc24010b-234c-477a-aef7-d47fbc35ac7f",
   "metadata": {},
   "source": [
    "# import libraries"
   ]
  },
  {
   "cell_type": "code",
   "execution_count": null,
   "id": "89fb0fff-e79a-4bb4-bbfc-f35739bf41c2",
   "metadata": {},
   "outputs": [],
   "source": [
    "import os\n",
    "import time\n",
    "import boto3\n",
    "import numpy as np\n",
    "import pandas as pd\n",
    "import sagemaker\n",
    "from sagemaker import get_execution_role\n",
    "from sagemaker.workflow.pipeline_context import PipelineSession\n",
    "\n",
    "import boto3\n",
    "import sagemaker\n",
    "import pandas as pd\n",
    "from sklearn.preprocessing import OneHotEncoder\n",
    "from sklearn.model_selection import train_test_split\n",
    "\n",
    "# Split data into train and test\n",
    "from sklearn.model_selection import train_test_split\n",
    "\n",
    "from sagemaker.sklearn.estimator import SKLearn\n",
    "\n",
    "sess = boto3.Session()\n",
    "sm = sess.client(\"sagemaker\")\n",
    "sagemaker_session = sagemaker.Session(boto_session=sess)\n",
    "\n",
    "region = boto3.Session().region_name\n",
    "\n",
    "pipeline_session = PipelineSession()\n",
    "\n",
    "model_package_group_name = \"PipelineModelPackageGroup\"\n",
    "pipeline_name = \"serial-inference-pipeline\"  # SageMaker Pipeline name\n",
    "\n",
    "\n",
    "\n",
    "# SageMaker session\n",
    "sagemaker_session = sagemaker.Session()"
   ]
  },
  {
   "cell_type": "markdown",
   "id": "5e487f03-6388-4496-b7ac-a2e8aaccecb8",
   "metadata": {},
   "source": [
    "# import input data from S3"
   ]
  },
  {
   "cell_type": "code",
   "execution_count": null,
   "id": "ae4c47e8-2d53-4160-9044-d1bdd16bc7a5",
   "metadata": {},
   "outputs": [],
   "source": [
    "\n",
    "data_key = f'{prefix}/test_data.csv'\n",
    "\n",
    "train_input_dir = f's3://{bucket}/{data_key}'\n",
    "\n",
    "df = pd.read_csv(train_input_dir)\n",
    "\n",
    "df.head(10)"
   ]
  },
  {
   "cell_type": "markdown",
   "id": "e3ca98ba-04a8-49de-8915-94fc213c06d2",
   "metadata": {},
   "source": [
    "# Define a Processing Step for Feature Engineering <a class=\"anchor\" id=\"training\"></a>\n",
    "\n",
    "\n",
    "The below preprocessing script, in addition to creating a scaler, contains the necessary functions for it to be deployed as part of a model.\n",
    "\n"
   ]
  },
  {
   "cell_type": "code",
   "execution_count": null,
   "id": "9e2c2b11-1038-4f4f-9bba-1c3184c4e117",
   "metadata": {},
   "outputs": [],
   "source": [
    "%%writefile preprocess_input_data.py\n",
    "\n",
    "import os\n",
    "import boto3\n",
    "import argparse\n",
    "import sagemaker\n",
    "import pandas as pd\n",
    "\n",
    "from sagemaker import get_execution_role\n",
    "from sklearn.preprocessing import OneHotEncoder\n",
    "\n",
    "# split data into train and test\n",
    "from sklearn.model_selection import train_test_split\n",
    "from sklearn.preprocessing import LabelEncoder, StandardScaler\n",
    "\n",
    "def preprocessing_data(input_data_dir):\n",
    "    \n",
    "    bucket = input_data_dir.split('/')[2]\n",
    "    prefix = input_data_dir.split('/')[3]\n",
    "    \n",
    "    # SageMaker session\n",
    "    sagemaker_session = sagemaker.Session()\n",
    "    input_data = pd.read_csv(input_data_dir)\n",
    "    df = input_data.copy()\n",
    "\n",
    "    # Encode categorical features\n",
    "    le_gender = LabelEncoder()\n",
    "    le_cancer_type = LabelEncoder()\n",
    "    df['outcome'] = df['outcome'].apply(lambda x: 1 if x == 'survived' else 0)\n",
    "    df['gender'] = le_gender.fit_transform(df['gender'])\n",
    "    df['cancer_type'] = le_cancer_type.fit_transform(df['cancer_type'])\n",
    "    \n",
    "    # Separate features and labels\n",
    "    X = df.drop('outcome', axis=1)\n",
    "    y = df['outcome']\n",
    "    \n",
    "    # Scale the numerical features\n",
    "    scaler = StandardScaler()\n",
    "    X_scaled = scaler.fit_transform(X)\n",
    "    \n",
    "    # Split the data into training and test sets\n",
    "    X_train, X_test, y_train, y_test = train_test_split(X_scaled, y, test_size=0.2, random_state=42, stratify=y)\n",
    "    \n",
    "    # Convert to CSV format and save locally\n",
    "    # Ensure the label is the first column in the dataset\n",
    "    train_data = pd.concat([y_train.reset_index(drop=True), pd.DataFrame(X_train)], axis=1)\n",
    "    test_data = pd.concat([y_test.reset_index(drop=True), pd.DataFrame(X_test)], axis=1)\n",
    "    \n",
    "    # Save the datasets as CSV files without headers\n",
    "    train_data.to_csv('train.csv', index=False, header=False)\n",
    "    test_data.to_csv('test.csv', index=False, header=False)\n",
    "\n",
    "\n",
    "\n",
    "    # Upload the data to S3\n",
    "    train_data_s3_path = sagemaker_session.upload_data(path='train.csv', bucket=bucket, key_prefix=prefix)\n",
    "    print('Saved Train data', train_data_s3_path)\n",
    "    test_data_s3_path = sagemaker_session.upload_data(path='test.csv', bucket=bucket, key_prefix=prefix)\n",
    "    print('Saved Test data', test_data_s3_path)\n",
    "    \n",
    "    \n",
    "\n",
    "    return train_data_s3_path, test_data_s3_path\n",
    "\n",
    "    \n",
    "if __name__ == \"__main__\":\n",
    "    parser = argparse.ArgumentParser()\n",
    "    parser.add_argument('input_data_dir')\n",
    "    args = parser.parse_args()\n",
    "    preprocessing_data(args.input_data_dir)\n",
    "\n",
    "\n",
    "\n",
    "\n",
    "\n"
   ]
  },
  {
   "cell_type": "code",
   "execution_count": null,
   "id": "cf489677-7aa3-419c-820e-f2607b080006",
   "metadata": {},
   "outputs": [],
   "source": [
    "! python preprocess_input_data.py 's3://mysagemakerprojects/cancer-prediction-ml-model/test_data.csv'"
   ]
  },
  {
   "cell_type": "code",
   "execution_count": null,
   "id": "7ae7b3ad-3deb-4add-976c-2d3fb2b28b2b",
   "metadata": {},
   "outputs": [],
   "source": [
    "train_data_s3_path = 's3://mysagemakerprojects/cancer-prediction-ml-model/train.csv'\n",
    "test_data_s3_path = 's3://mysagemakerprojects/cancer-prediction-ml-model/test.csv'"
   ]
  },
  {
   "cell_type": "code",
   "execution_count": null,
   "id": "f2e02df1-34fc-46a7-af4b-09510463a891",
   "metadata": {},
   "outputs": [],
   "source": [
    "from sagemaker.inputs import TrainingInput\n",
    "from sagemaker.amazon.amazon_estimator import get_image_uri\n",
    "\n",
    "# Get XGBoost container image\n",
    "container = get_image_uri(boto3.Session().region_name, 'xgboost', 'latest')\n",
    "\n",
    "# Define the XGBoost model\n",
    "xgboost = sagemaker.estimator.Estimator(\n",
    "    container,\n",
    "    role,\n",
    "    instance_count=1,\n",
    "    instance_type='ml.m5.xlarge',\n",
    "    output_path=f's3://{bucket}/sagemaker/cancer-output',\n",
    "    sagemaker_session=sagemaker_session\n",
    ")\n",
    "\n",
    "# Set hyperparameters\n",
    "xgboost.set_hyperparameters(\n",
    "    objective='binary:logistic',\n",
    "    num_round=100,\n",
    "    max_depth=5,\n",
    "    eta=0.2,\n",
    "    subsample=0.8,\n",
    "    eval_metric='auc'\n",
    ")\n",
    "\n",
    "# Define data channels\n",
    "train_input = TrainingInput(s3_data=train_data_s3_path, content_type='csv')\n",
    "test_input = TrainingInput(s3_data=test_data_s3_path, content_type='csv')\n",
    "\n",
    "# Train the model\n",
    "xgboost.fit({'train': train_input, 'validation': test_input})\n"
   ]
  },
  {
   "cell_type": "code",
   "execution_count": null,
   "id": "f2c7aeb6-37e0-4974-9e50-ba9d9f82631d",
   "metadata": {},
   "outputs": [],
   "source": [
    "# Deploy the model to an endpoint\n",
    "xgboost_predictor = xgboost.deploy(initial_instance_count=1, instance_type='ml.m5.xlarge')\n"
   ]
  },
  {
   "cell_type": "code",
   "execution_count": null,
   "id": "af06e22a-0210-497e-83ba-f2278a6b9f43",
   "metadata": {},
   "outputs": [],
   "source": [
    "from sagemaker.model import ModelPackage\n",
    "\n",
    "# Register the trained model\n",
    "model_package_group_name = 'CancerPredictionModelPackageGroup'\n",
    "\n",
    "# Register the model in the SageMaker Model Registry\n",
    "model_package = xgboost.register(\n",
    "    content_types=[\"text/csv\"],                       # input content type\n",
    "    response_types=[\"text/csv\"],                      # output content type\n",
    "    inference_instances=[\"ml.m5.large\"],              # instance for inference\n",
    "    transform_instances=[\"ml.m5.large\"],              # instance for batch transform jobs\n",
    "    model_package_group_name=model_package_group_name # model package group name for versioning\n",
    ")\n",
    "\n",
    "print(f\"Model package ARN: {model_package.model_package_arn}\")"
   ]
  },
  {
   "cell_type": "code",
   "execution_count": null,
   "id": "d0f99ab4-8138-4263-aa22-f99666e2e47b",
   "metadata": {},
   "outputs": [],
   "source": [
    "import boto3\n",
    "\n",
    "# Initialize a SageMaker client\n",
    "sagemaker_client = boto3.client('sagemaker')\n",
    "\n",
    "# List all the endpoints in your account\n",
    "response = sagemaker_client.list_endpoints()\n",
    "\n",
    "# Print the list of endpoints\n",
    "for endpoint in response['Endpoints']:\n",
    "    print(f\"Endpoint Name: {endpoint['EndpointName']}, Status: {endpoint['EndpointStatus']}\")\n"
   ]
  },
  {
   "cell_type": "code",
   "execution_count": null,
   "id": "42f8f4f4-5959-4c40-849e-b2a6f32745ba",
   "metadata": {},
   "outputs": [],
   "source": []
  }
 ],
 "metadata": {
  "kernelspec": {
   "display_name": "Python 3 (ipykernel)",
   "language": "python",
   "name": "python3"
  },
  "language_info": {
   "codemirror_mode": {
    "name": "ipython",
    "version": 3
   },
   "file_extension": ".py",
   "mimetype": "text/x-python",
   "name": "python",
   "nbconvert_exporter": "python",
   "pygments_lexer": "ipython3",
   "version": "3.11.9"
  }
 },
 "nbformat": 4,
 "nbformat_minor": 5
}
